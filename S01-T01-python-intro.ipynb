{
 "cells": [
  {
   "cell_type": "markdown",
   "metadata": {},
   "source": [
    "# S01-T01: Jupyter Notebook and Markdown\n",
    "\n",
    "## Goals:\n",
    "1. Create variables\n",
    "1. Mathematical Operations\n",
    "1. Transform with Casting\n",
    "1. String Techiques\n",
    "1. Booleans"
   ]
  },
  {
   "cell_type": "code",
   "execution_count": 31,
   "metadata": {},
   "outputs": [],
   "source": [
    "# Loading packages and setting functions\n",
    "from datetime import date\n",
    "import calendar\n",
    "curr_date = date.today()"
   ]
  },
  {
   "cell_type": "code",
   "execution_count": 32,
   "metadata": {},
   "outputs": [
    {
     "name": "stdout",
     "output_type": "stream",
     "text": [
      "Hello , my name is Mar!\n"
     ]
    }
   ],
   "source": [
    "# Welcome\n",
    "usr_name = input(\"What's your name\") # 1. Create variables\n",
    "print('Hello ' + usr_name + ', my name is Mar!') # 4. String Techiques"
   ]
  },
  {
   "cell_type": "code",
   "execution_count": 33,
   "metadata": {},
   "outputs": [
    {
     "name": "stdout",
     "output_type": "stream",
     "text": [
      "Please, write a 4-digit number\n"
     ]
    }
   ],
   "source": [
    "# Calculate age\n",
    "usr_year = input(\"Which year were you born?\")\n",
    "if len(usr_year) == 4 and usr_year.isdigit():\n",
    "    usr_age = curr_date.year - int(usr_year) # 2. Mathematical Operations and 3. Transform with Casting\n",
    "    print(str(usr_age))\n",
    "else:\n",
    "    print('Please, write a 4-digit number')"
   ]
  },
  {
   "cell_type": "code",
   "execution_count": 34,
   "metadata": {},
   "outputs": [
    {
     "name": "stdout",
     "output_type": "stream",
     "text": [
      "Have a great Monday :)\n"
     ]
    }
   ],
   "source": [
    "# Goodbye\n",
    "if usr_age > 80: # 4. Booleans\n",
    "    print('Have a great '+ calendar.day_name[curr_date.weekday()] + ', grandpa!')\n",
    "else:\n",
    "    print('Have a great '+ calendar.day_name[curr_date.weekday()] + ' :)')"
   ]
  }
 ],
 "metadata": {
  "interpreter": {
   "hash": "f9f85f796d01129d0dd105a088854619f454435301f6ffec2fea96ecbd9be4ac"
  },
  "kernelspec": {
   "display_name": "Python 3.9.9 64-bit",
   "language": "python",
   "name": "python3"
  },
  "language_info": {
   "codemirror_mode": {
    "name": "ipython",
    "version": 3
   },
   "file_extension": ".py",
   "mimetype": "text/x-python",
   "name": "python",
   "nbconvert_exporter": "python",
   "pygments_lexer": "ipython3",
   "version": "3.10.0"
  },
  "orig_nbformat": 4
 },
 "nbformat": 4,
 "nbformat_minor": 2
}
